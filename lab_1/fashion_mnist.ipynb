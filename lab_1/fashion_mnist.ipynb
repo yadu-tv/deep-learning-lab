{
 "cells": [
  {
   "cell_type": "code",
   "execution_count": 1,
   "metadata": {},
   "outputs": [],
   "source": [
    "#Ignoring TF warning messages\n",
    "import logging, os\n",
    "logging.disable(logging.WARNING)\n",
    "os.environ[\"TF_CPP_MIN_LOG_LEVEL\"] = \"3\""
   ]
  },
  {
   "cell_type": "code",
   "execution_count": 2,
   "metadata": {},
   "outputs": [],
   "source": [
    "from keras.datasets import fashion_mnist\n",
    "from keras import models\n",
    "from keras import layers\n",
    "from keras.utils import to_categorical"
   ]
  },
  {
   "cell_type": "code",
   "execution_count": 3,
   "metadata": {},
   "outputs": [],
   "source": [
    "(train_images, train_labels), (test_images, test_labels) = fashion_mnist.load_data()\n",
    "train_images.shape\n",
    "len(train_labels)\n",
    "train_labels\n",
    "test_images.shape\n",
    "len(test_labels)\n",
    "test_labels\n",
    "\n",
    "train_images = train_images[train_labels < 6]\n",
    "train_labels = train_labels[train_labels < 6]\n",
    "test_images = test_images[test_labels < 6]\n",
    "test_labels = test_labels[test_labels < 6]"
   ]
  },
  {
   "cell_type": "code",
   "execution_count": 4,
   "metadata": {},
   "outputs": [],
   "source": [
    "network = models.Sequential()\n",
    "network.add(layers.Dense(512, activation='relu', input_shape=(28*28,)))\n",
    "network.add(layers.Dense(6, activation='softmax'))\n",
    "network.compile(optimizer='rmsprop',\n",
    "                loss='categorical_crossentropy',\n",
    "                metrics=['accuracy'])\n",
    "\n",
    "train_images = train_images.reshape((train_images.shape[0], 28 * 28))\n",
    "test_images = test_images.reshape((test_images.shape[0], 28 * 28))"
   ]
  },
  {
   "cell_type": "code",
   "execution_count": 5,
   "metadata": {},
   "outputs": [
    {
     "name": "stdout",
     "output_type": "stream",
     "text": [
      "Epoch 1/20\n"
     ]
    },
    {
     "name": "stderr",
     "output_type": "stream",
     "text": [
      "WARNING: All log messages before absl::InitializeLog() is called are written to STDERR\n",
      "I0000 00:00:1705585391.054754  106804 device_compiler.h:186] Compiled cluster using XLA!  This line is logged at most once for the lifetime of the process.\n"
     ]
    },
    {
     "name": "stdout",
     "output_type": "stream",
     "text": [
      "282/282 [==============================] - 4s 6ms/step - loss: 23.5745 - accuracy: 0.7940\n",
      "Epoch 2/20\n",
      "282/282 [==============================] - 2s 6ms/step - loss: 0.7233 - accuracy: 0.8505\n",
      "Epoch 3/20\n",
      "282/282 [==============================] - 2s 6ms/step - loss: 0.4562 - accuracy: 0.8758\n",
      "Epoch 4/20\n",
      "282/282 [==============================] - 2s 6ms/step - loss: 0.4198 - accuracy: 0.8871\n",
      "Epoch 5/20\n",
      "282/282 [==============================] - 2s 5ms/step - loss: 0.3865 - accuracy: 0.8928\n",
      "Epoch 6/20\n",
      "282/282 [==============================] - 2s 6ms/step - loss: 0.3534 - accuracy: 0.8982\n",
      "Epoch 7/20\n",
      "282/282 [==============================] - 2s 6ms/step - loss: 0.3597 - accuracy: 0.9010\n",
      "Epoch 8/20\n",
      "282/282 [==============================] - 2s 6ms/step - loss: 0.3252 - accuracy: 0.9073\n",
      "Epoch 9/20\n",
      "282/282 [==============================] - 2s 6ms/step - loss: 0.3175 - accuracy: 0.9073\n",
      "Epoch 10/20\n",
      "282/282 [==============================] - 2s 6ms/step - loss: 0.3078 - accuracy: 0.9090\n",
      "Epoch 11/20\n",
      "282/282 [==============================] - 2s 6ms/step - loss: 0.3149 - accuracy: 0.9107\n",
      "Epoch 12/20\n",
      "282/282 [==============================] - 2s 7ms/step - loss: 0.3131 - accuracy: 0.9110\n",
      "Epoch 13/20\n",
      "282/282 [==============================] - 2s 6ms/step - loss: 0.2990 - accuracy: 0.9133\n",
      "Epoch 14/20\n",
      "282/282 [==============================] - 2s 6ms/step - loss: 0.2933 - accuracy: 0.9159\n",
      "Epoch 15/20\n",
      "282/282 [==============================] - 1s 5ms/step - loss: 0.2925 - accuracy: 0.9155\n",
      "Epoch 16/20\n",
      "282/282 [==============================] - 2s 6ms/step - loss: 0.3010 - accuracy: 0.9171\n",
      "Epoch 17/20\n",
      "282/282 [==============================] - 2s 5ms/step - loss: 0.2877 - accuracy: 0.9186\n",
      "Epoch 18/20\n",
      "282/282 [==============================] - 2s 5ms/step - loss: 0.2804 - accuracy: 0.9202\n",
      "Epoch 19/20\n",
      "282/282 [==============================] - 2s 6ms/step - loss: 0.2837 - accuracy: 0.9209\n",
      "Epoch 20/20\n",
      "282/282 [==============================] - 2s 6ms/step - loss: 0.2844 - accuracy: 0.9224\n",
      "188/188 [==============================] - 1s 5ms/step - loss: 0.4787 - accuracy: 0.8957\n",
      "test_acc: 0.8956666588783264\n"
     ]
    }
   ],
   "source": [
    "train_labels = to_categorical(train_labels,6)\n",
    "test_labels = to_categorical(test_labels,6)\n",
    "\n",
    "network.fit(train_images, train_labels, epochs=20, batch_size=128)\n",
    "test_loss, test_acc = network.evaluate(test_images, test_labels)\n",
    "print('test_acc:', test_acc) #21BAI1210"
   ]
  }
 ],
 "metadata": {
  "kernelspec": {
   "display_name": "Python 3",
   "language": "python",
   "name": "python3"
  },
  "language_info": {
   "codemirror_mode": {
    "name": "ipython",
    "version": 3
   },
   "file_extension": ".py",
   "mimetype": "text/x-python",
   "name": "python",
   "nbconvert_exporter": "python",
   "pygments_lexer": "ipython3",
   "version": "3.11.7"
  }
 },
 "nbformat": 4,
 "nbformat_minor": 2
}
