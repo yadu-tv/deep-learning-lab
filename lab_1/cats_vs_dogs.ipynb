{
 "cells": [
  {
   "cell_type": "code",
   "execution_count": 1,
   "metadata": {},
   "outputs": [],
   "source": [
    "#Ignoring TF warning messages\n",
    "import logging, os\n",
    "logging.disable(logging.WARNING)\n",
    "os.environ[\"TF_CPP_MIN_LOG_LEVEL\"] = \"3\""
   ]
  },
  {
   "cell_type": "code",
   "execution_count": 2,
   "metadata": {},
   "outputs": [],
   "source": [
    "import tensorflow as tf\n",
    "import tensorflow_datasets as tfds"
   ]
  },
  {
   "cell_type": "code",
   "execution_count": 3,
   "metadata": {},
   "outputs": [],
   "source": [
    "(train_data, validation_data, test_data), info = tfds.load('cats_vs_dogs',\n",
    "                                                           split=['train[:80%]', 'train[80%:90%]', 'train[90%:]'],\n",
    "                                                           with_info=True,\n",
    "                                                           as_supervised=True)"
   ]
  },
  {
   "cell_type": "code",
   "execution_count": 4,
   "metadata": {},
   "outputs": [],
   "source": [
    "IMG_SIZE = 150\n",
    "\n",
    "def format_image(image, label):\n",
    "    image = tf.cast(image, tf.float32) / 255.0  # Normalize the pixel values\n",
    "    image = tf.image.resize(image, (IMG_SIZE, IMG_SIZE))  # Resize to the desired size\n",
    "    return image, label\n",
    "batch_size = 32\n",
    "train_data = train_data.map(format_image).shuffle(1000).batch(batch_size)\n",
    "validation_data = validation_data.map(format_image).batch(batch_size)\n",
    "test_data = test_data.map(format_image).batch(batch_size)"
   ]
  },
  {
   "cell_type": "code",
   "execution_count": 5,
   "metadata": {},
   "outputs": [],
   "source": [
    "base_model = tf.keras.applications.MobileNetV2(input_shape=(IMG_SIZE, IMG_SIZE, 3),\n",
    "                                               include_top=False,\n",
    "                                               weights='imagenet')\n",
    "base_model.trainable = False"
   ]
  },
  {
   "cell_type": "code",
   "execution_count": 6,
   "metadata": {},
   "outputs": [],
   "source": [
    "global_average_layer = tf.keras.layers.GlobalAveragePooling2D()\n",
    "prediction_layer = tf.keras.layers.Dense(1)\n",
    "model = tf.keras.Sequential([\n",
    "    base_model,\n",
    "    global_average_layer,\n",
    "    prediction_layer\n",
    "])\n",
    "model.compile(optimizer=tf.keras.optimizers.RMSprop(lr=0.0001),\n",
    "              loss=tf.keras.losses.BinaryCrossentropy(from_logits=True),\n",
    "              metrics=['accuracy']) "
   ]
  },
  {
   "cell_type": "code",
   "execution_count": 7,
   "metadata": {},
   "outputs": [
    {
     "data": {
      "text/plain": [
       "True"
      ]
     },
     "execution_count": 7,
     "metadata": {},
     "output_type": "execute_result"
    }
   ],
   "source": [
    "tf.test.is_gpu_available(\n",
    "    cuda_only=False, min_cuda_compute_capability=None\n",
    ")"
   ]
  },
  {
   "cell_type": "code",
   "execution_count": 8,
   "metadata": {},
   "outputs": [
    {
     "name": "stdout",
     "output_type": "stream",
     "text": [
      "Epoch 1/3\n",
      "  5/582 [..............................] - ETA: 15s - loss: 0.5116 - accuracy: 0.7312   "
     ]
    },
    {
     "name": "stderr",
     "output_type": "stream",
     "text": [
      "WARNING: All log messages before absl::InitializeLog() is called are written to STDERR\n",
      "I0000 00:00:1705648453.909564   32082 device_compiler.h:186] Compiled cluster using XLA!  This line is logged at most once for the lifetime of the process.\n"
     ]
    },
    {
     "name": "stdout",
     "output_type": "stream",
     "text": [
      "582/582 [==============================] - 25s 32ms/step - loss: 0.1173 - accuracy: 0.9510 - val_loss: 0.0975 - val_accuracy: 0.9630\n",
      "Epoch 2/3\n",
      "582/582 [==============================] - 17s 28ms/step - loss: 0.0881 - accuracy: 0.9645 - val_loss: 0.0921 - val_accuracy: 0.9695\n",
      "Epoch 3/3\n",
      "582/582 [==============================] - 17s 29ms/step - loss: 0.0795 - accuracy: 0.9676 - val_loss: 0.0955 - val_accuracy: 0.9665\n"
     ]
    }
   ],
   "source": [
    "with tf.device('GPU:0'):\n",
    "    history = model.fit(train_data,\n",
    "                        epochs=3,\n",
    "                        validation_data=validation_data)"
   ]
  },
  {
   "cell_type": "code",
   "execution_count": 28,
   "metadata": {},
   "outputs": [
    {
     "name": "stdout",
     "output_type": "stream",
     "text": [
      "73/73 [==============================] - 2s 28ms/step - loss: 0.0847 - accuracy: 0.9686\n",
      "test_acc: 0.9686156511306763\n"
     ]
    }
   ],
   "source": [
    "test_loss, test_accuracy = model.evaluate(test_data)\n",
    "print('test_acc:', test_accuracy) #"
   ]
  }
 ],
 "metadata": {
  "kernelspec": {
   "display_name": "Python 3",
   "language": "python",
   "name": "python3"
  },
  "language_info": {
   "codemirror_mode": {
    "name": "ipython",
    "version": 3
   },
   "file_extension": ".py",
   "mimetype": "text/x-python",
   "name": "python",
   "nbconvert_exporter": "python",
   "pygments_lexer": "ipython3",
   "version": "3.11.7"
  }
 },
 "nbformat": 4,
 "nbformat_minor": 2
}
