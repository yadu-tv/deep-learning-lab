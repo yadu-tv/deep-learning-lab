{
 "cells": [
  {
   "cell_type": "code",
   "execution_count": 4,
   "metadata": {},
   "outputs": [],
   "source": [
    "#Ignoring TF warning messages\n",
    "import logging, os\n",
    "logging.disable(logging.WARNING)\n",
    "os.environ[\"TF_CPP_MIN_LOG_LEVEL\"] = \"3\""
   ]
  },
  {
   "cell_type": "code",
   "execution_count": 5,
   "metadata": {},
   "outputs": [],
   "source": [
    "import numpy as np\n",
    "from tensorflow.keras.datasets import cifar10\n",
    "from tensorflow.keras.models import Sequential\n",
    "from tensorflow.keras.layers import Conv2D, MaxPooling2D, Flatten, Dense, Dropout\n",
    "from tensorflow.keras.utils import to_categorical\n",
    "import matplotlib.pyplot as plt"
   ]
  },
  {
   "cell_type": "code",
   "execution_count": 6,
   "metadata": {},
   "outputs": [],
   "source": [
    "# Load CIFAR-10 data\n",
    "(X_train, y_train), (X_test, y_test) = cifar10.load_data()"
   ]
  },
  {
   "cell_type": "code",
   "execution_count": 7,
   "metadata": {},
   "outputs": [],
   "source": [
    "# Normalize the inputs from 0-255 to 0-1\n",
    "X_train = X_train.astype('float32') / 255.0\n",
    "X_test = X_test.astype('float32') / 255.0\n",
    "\n",
    "# One-hot encode outputs\n",
    "y_train = to_categorical(y_train, 10)\n",
    "y_test = to_categorical(y_test, 10)"
   ]
  },
  {
   "cell_type": "code",
   "execution_count": 8,
   "metadata": {},
   "outputs": [],
   "source": [
    "# Build the CNN model\n",
    "model = Sequential()\n",
    "model.add(Conv2D(32, (3, 3), padding='same', input_shape=(32, 32, 3), activation='relu'))\n",
    "model.add(MaxPooling2D(pool_size=(2, 2)))\n",
    "model.add(Conv2D(64, (3, 3), padding='same', activation='relu'))\n",
    "model.add(MaxPooling2D(pool_size=(2, 2)))\n",
    "model.add(Conv2D(64, (3, 3), padding='same', activation='relu'))\n",
    "model.add(MaxPooling2D(pool_size=(2, 2)))\n",
    "model.add(Dropout(0.25))\n",
    "model.add(Flatten())\n",
    "model.add(Dense(512, activation='relu'))\n",
    "model.add(Dropout(0.5))\n",
    "model.add(Dense(10, activation='softmax'))"
   ]
  },
  {
   "cell_type": "code",
   "execution_count": 9,
   "metadata": {},
   "outputs": [
    {
     "name": "stdout",
     "output_type": "stream",
     "text": [
      "Epoch 1/10\n"
     ]
    },
    {
     "name": "stderr",
     "output_type": "stream",
     "text": [
      "WARNING: All log messages before absl::InitializeLog() is called are written to STDERR\n",
      "I0000 00:00:1709275234.171128    7644 device_compiler.h:186] Compiled cluster using XLA!  This line is logged at most once for the lifetime of the process.\n"
     ]
    },
    {
     "name": "stdout",
     "output_type": "stream",
     "text": [
      "782/782 - 9s - loss: 1.5464 - accuracy: 0.4330 - val_loss: 1.1868 - val_accuracy: 0.5822 - 9s/epoch - 12ms/step\n",
      "Epoch 2/10\n",
      "782/782 - 5s - loss: 1.1570 - accuracy: 0.5874 - val_loss: 1.0191 - val_accuracy: 0.6447 - 5s/epoch - 6ms/step\n",
      "Epoch 3/10\n",
      "782/782 - 5s - loss: 1.0004 - accuracy: 0.6470 - val_loss: 0.8776 - val_accuracy: 0.6958 - 5s/epoch - 6ms/step\n",
      "Epoch 4/10\n",
      "782/782 - 5s - loss: 0.8994 - accuracy: 0.6810 - val_loss: 0.8690 - val_accuracy: 0.6997 - 5s/epoch - 7ms/step\n",
      "Epoch 5/10\n",
      "782/782 - 5s - loss: 0.8362 - accuracy: 0.7056 - val_loss: 0.7947 - val_accuracy: 0.7278 - 5s/epoch - 7ms/step\n",
      "Epoch 6/10\n",
      "782/782 - 5s - loss: 0.7710 - accuracy: 0.7295 - val_loss: 0.7528 - val_accuracy: 0.7387 - 5s/epoch - 7ms/step\n",
      "Epoch 7/10\n",
      "782/782 - 5s - loss: 0.7280 - accuracy: 0.7450 - val_loss: 0.7379 - val_accuracy: 0.7413 - 5s/epoch - 7ms/step\n",
      "Epoch 8/10\n",
      "782/782 - 5s - loss: 0.6941 - accuracy: 0.7563 - val_loss: 0.7258 - val_accuracy: 0.7531 - 5s/epoch - 7ms/step\n",
      "Epoch 9/10\n",
      "782/782 - 5s - loss: 0.6523 - accuracy: 0.7688 - val_loss: 0.7018 - val_accuracy: 0.7585 - 5s/epoch - 7ms/step\n",
      "Epoch 10/10\n",
      "782/782 - 5s - loss: 0.6234 - accuracy: 0.7805 - val_loss: 0.6815 - val_accuracy: 0.7650 - 5s/epoch - 7ms/step\n"
     ]
    },
    {
     "data": {
      "text/plain": [
       "<keras.src.callbacks.History at 0x7fa5e2980cd0>"
      ]
     },
     "execution_count": 9,
     "metadata": {},
     "output_type": "execute_result"
    }
   ],
   "source": [
    "# Compile model\n",
    "model.compile(loss='categorical_crossentropy', optimizer='adam', metrics=['accuracy'])\n",
    "\n",
    "# Train the model\n",
    "model.fit(X_train, y_train, validation_data=(X_test, y_test), epochs=10, batch_size=64, verbose=2)"
   ]
  },
  {
   "cell_type": "code",
   "execution_count": 10,
   "metadata": {},
   "outputs": [
    {
     "name": "stdout",
     "output_type": "stream",
     "text": [
      "CNN Test Accuracy: 76.50%\n"
     ]
    }
   ],
   "source": [
    "# Evaluate the model\n",
    "scores = model.evaluate(X_test, y_test, verbose=0)\n",
    "print(\"CNN Test Accuracy: %.2f%%\" % (scores[1] * 100)) #21BAI1210"
   ]
  }
 ],
 "metadata": {
  "kernelspec": {
   "display_name": "deepl",
   "language": "python",
   "name": "python3"
  },
  "language_info": {
   "codemirror_mode": {
    "name": "ipython",
    "version": 3
   },
   "file_extension": ".py",
   "mimetype": "text/x-python",
   "name": "python",
   "nbconvert_exporter": "python",
   "pygments_lexer": "ipython3",
   "version": "3.11.7"
  }
 },
 "nbformat": 4,
 "nbformat_minor": 2
}
