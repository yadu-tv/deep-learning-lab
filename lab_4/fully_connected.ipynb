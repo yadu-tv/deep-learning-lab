{
 "cells": [
  {
   "cell_type": "code",
   "execution_count": 4,
   "metadata": {},
   "outputs": [],
   "source": [
    "#Ignoring TF warning messages\n",
    "import logging, os\n",
    "logging.disable(logging.WARNING)\n",
    "os.environ[\"TF_CPP_MIN_LOG_LEVEL\"] = \"3\""
   ]
  },
  {
   "cell_type": "code",
   "execution_count": 5,
   "metadata": {},
   "outputs": [],
   "source": [
    "import numpy as np\n",
    "from tensorflow.keras.datasets import cifar10\n",
    "from tensorflow.keras.models import Sequential\n",
    "from tensorflow.keras.layers import Flatten, Dense, Dropout\n",
    "from tensorflow.keras.utils import to_categorical\n",
    "import matplotlib.pyplot as plt"
   ]
  },
  {
   "cell_type": "code",
   "execution_count": 6,
   "metadata": {},
   "outputs": [],
   "source": [
    "# Load CIFAR-10 data\n",
    "(X_train, y_train), (X_test, y_test) = cifar10.load_data()\n",
    "\n",
    "# Normalize the inputs from 0-255 to 0-1\n",
    "X_train = X_train.astype('float32') / 255.0\n",
    "X_test = X_test.astype('float32') / 255.0\n",
    "\n",
    "# Flatten the images\n",
    "X_train_flatten = X_train.reshape(X_train.shape[0], -1)\n",
    "X_test_flatten = X_test.reshape(X_test.shape[0], -1)\n",
    "\n",
    "# One-hot encode outputs\n",
    "y_train = to_categorical(y_train, 10)\n",
    "y_test = to_categorical(y_test, 10)"
   ]
  },
  {
   "cell_type": "code",
   "execution_count": 7,
   "metadata": {},
   "outputs": [],
   "source": [
    "# Build the fully connected neural network\n",
    "model = Sequential()\n",
    "model.add(Dense(512, activation='relu', input_shape=(32 * 32 * 3,)))\n",
    "model.add(Dropout(0.5))\n",
    "model.add(Dense(256, activation='relu'))\n",
    "model.add(Dropout(0.3))\n",
    "model.add(Dense(10, activation='softmax'))"
   ]
  },
  {
   "cell_type": "code",
   "execution_count": 8,
   "metadata": {},
   "outputs": [
    {
     "name": "stdout",
     "output_type": "stream",
     "text": [
      "Epoch 1/10\n"
     ]
    },
    {
     "name": "stderr",
     "output_type": "stream",
     "text": [
      "WARNING: All log messages before absl::InitializeLog() is called are written to STDERR\n",
      "I0000 00:00:1709275338.591305    8517 device_compiler.h:186] Compiled cluster using XLA!  This line is logged at most once for the lifetime of the process.\n"
     ]
    },
    {
     "name": "stdout",
     "output_type": "stream",
     "text": [
      "782/782 - 6s - loss: 2.1444 - accuracy: 0.1877 - val_loss: 2.0004 - val_accuracy: 0.2607 - 6s/epoch - 8ms/step\n",
      "Epoch 2/10\n",
      "782/782 - 4s - loss: 2.0426 - accuracy: 0.2167 - val_loss: 1.9987 - val_accuracy: 0.2805 - 4s/epoch - 5ms/step\n",
      "Epoch 3/10\n",
      "782/782 - 4s - loss: 2.0133 - accuracy: 0.2306 - val_loss: 1.9770 - val_accuracy: 0.2663 - 4s/epoch - 5ms/step\n",
      "Epoch 4/10\n",
      "782/782 - 4s - loss: 2.0044 - accuracy: 0.2376 - val_loss: 1.9682 - val_accuracy: 0.2984 - 4s/epoch - 5ms/step\n",
      "Epoch 5/10\n",
      "782/782 - 4s - loss: 1.9855 - accuracy: 0.2498 - val_loss: 1.9951 - val_accuracy: 0.2813 - 4s/epoch - 6ms/step\n",
      "Epoch 6/10\n",
      "782/782 - 4s - loss: 1.9770 - accuracy: 0.2546 - val_loss: 1.9751 - val_accuracy: 0.2978 - 4s/epoch - 6ms/step\n",
      "Epoch 7/10\n",
      "782/782 - 4s - loss: 1.9767 - accuracy: 0.2524 - val_loss: 1.9594 - val_accuracy: 0.2832 - 4s/epoch - 6ms/step\n",
      "Epoch 8/10\n",
      "782/782 - 4s - loss: 1.9709 - accuracy: 0.2558 - val_loss: 1.9966 - val_accuracy: 0.3120 - 4s/epoch - 6ms/step\n",
      "Epoch 9/10\n",
      "782/782 - 4s - loss: 1.9640 - accuracy: 0.2622 - val_loss: 1.9484 - val_accuracy: 0.3082 - 4s/epoch - 6ms/step\n",
      "Epoch 10/10\n",
      "782/782 - 4s - loss: 1.9636 - accuracy: 0.2629 - val_loss: 1.9628 - val_accuracy: 0.2948 - 4s/epoch - 6ms/step\n"
     ]
    },
    {
     "data": {
      "text/plain": [
       "<keras.src.callbacks.History at 0x7ff355f7a1d0>"
      ]
     },
     "execution_count": 8,
     "metadata": {},
     "output_type": "execute_result"
    }
   ],
   "source": [
    "# Compile model\n",
    "model.compile(loss='categorical_crossentropy', optimizer='adam', metrics=['accuracy'])\n",
    "\n",
    "# Train the model\n",
    "model.fit(X_train_flatten, y_train, validation_data=(X_test_flatten, y_test), epochs=10, batch_size=64, verbose=2)"
   ]
  },
  {
   "cell_type": "code",
   "execution_count": 9,
   "metadata": {},
   "outputs": [
    {
     "name": "stdout",
     "output_type": "stream",
     "text": [
      "Fully Connected NN Test Accuracy: 29.48%\n"
     ]
    }
   ],
   "source": [
    "# Evaluate the model\n",
    "scores = model.evaluate(X_test_flatten, y_test, verbose=0)\n",
    "print(\"Fully Connected NN Test Accuracy: %.2f%%\" % (scores[1] * 100)) #"
   ]
  }
 ],
 "metadata": {
  "kernelspec": {
   "display_name": "deepl",
   "language": "python",
   "name": "python3"
  },
  "language_info": {
   "codemirror_mode": {
    "name": "ipython",
    "version": 3
   },
   "file_extension": ".py",
   "mimetype": "text/x-python",
   "name": "python",
   "nbconvert_exporter": "python",
   "pygments_lexer": "ipython3",
   "version": "3.11.7"
  }
 },
 "nbformat": 4,
 "nbformat_minor": 2
}
