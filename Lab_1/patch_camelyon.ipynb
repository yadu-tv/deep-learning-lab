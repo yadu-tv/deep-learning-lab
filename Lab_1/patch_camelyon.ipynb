{
 "cells": [
  {
   "cell_type": "markdown",
   "metadata": {},
   "source": [
    "Patch Camelyon Dataset (21BAI1210)"
   ]
  },
  {
   "cell_type": "code",
   "execution_count": 1,
   "metadata": {},
   "outputs": [
    {
     "name": "stderr",
     "output_type": "stream",
     "text": [
      "2024-01-18 07:09:53.787091: I tensorflow/core/util/port.cc:110] oneDNN custom operations are on. You may see slightly different numerical results due to floating-point round-off errors from different computation orders. To turn them off, set the environment variable `TF_ENABLE_ONEDNN_OPTS=0`.\n",
      "2024-01-18 07:09:53.791133: I tensorflow/tsl/cuda/cudart_stub.cc:28] Could not find cuda drivers on your machine, GPU will not be used.\n",
      "2024-01-18 07:09:53.841745: I tensorflow/tsl/cuda/cudart_stub.cc:28] Could not find cuda drivers on your machine, GPU will not be used.\n",
      "2024-01-18 07:09:53.842819: I tensorflow/core/platform/cpu_feature_guard.cc:182] This TensorFlow binary is optimized to use available CPU instructions in performance-critical operations.\n",
      "To enable the following instructions: AVX2 AVX512F AVX512_VNNI AVX512_BF16 FMA, in other operations, rebuild TensorFlow with the appropriate compiler flags.\n",
      "2024-01-18 07:09:54.999454: W tensorflow/compiler/tf2tensorrt/utils/py_utils.cc:38] TF-TRT Warning: Could not find TensorRT\n",
      "/home/yaduk/.pyenv/versions/3.8.18/lib/python3.8/site-packages/tqdm/auto.py:21: TqdmWarning: IProgress not found. Please update jupyter and ipywidgets. See https://ipywidgets.readthedocs.io/en/stable/user_install.html\n",
      "  from .autonotebook import tqdm as notebook_tqdm\n",
      "2024-01-18 07:09:56.454267: W tensorflow/tsl/platform/cloud/google_auth_provider.cc:184] All attempts to get a Google authentication bearer token failed, returning an empty token. Retrieving token from files failed with \"NOT_FOUND: Could not locate the credentials file.\". Retrieving token from GCE failed with \"FAILED_PRECONDITION: Error executing an HTTP request: libcurl code 6 meaning 'Couldn't resolve host name', error details: Could not resolve host: metadata.google.internal\".\n"
     ]
    },
    {
     "name": "stdout",
     "output_type": "stream",
     "text": [
      "\u001b[1mDownloading and preparing dataset 7.48 GiB (download: 7.48 GiB, generated: Unknown size, total: 7.48 GiB) to /home/yaduk/tensorflow_datasets/patch_camelyon/2.0.0...\u001b[0m\n"
     ]
    },
    {
     "name": "stderr",
     "output_type": "stream",
     "text": [
      "Dl Completed...: 0 url [00:00, ? url/s]\n",
      "Dl Completed...:   0%|          | 0/1 [00:00<?, ? url/s]\n",
      "Dl Completed...: 100%|██████████| 1/1 [00:00<00:00, 77.84 url/s]\n",
      "Dl Completed...: 100%|██████████| 1/1 [00:00<00:00, 56.58 url/s]\n",
      "Dl Completed...: 100%|██████████| 1/1 [00:00<00:00, 44.73 url/s]\n",
      "Dl Completed...:  50%|█████     | 1/2 [00:00<00:00, 31.04 url/s]\n",
      "Dl Completed...: 100%|██████████| 2/2 [00:00<00:00, 52.26 url/s]\n",
      "Dl Completed...: 100%|██████████| 2/2 [00:00<00:00, 44.70 url/s]\n",
      "Dl Completed...: 100%|██████████| 2/2 [00:00<00:00, 40.56 url/s]\n",
      "Dl Completed...:  67%|██████▋   | 2/3 [00:00<00:00, 33.90 url/s]\n",
      "Dl Completed...: 100%|██████████| 3/3 [00:00<00:00, 45.72 url/s]\n",
      "Dl Completed...: 100%|██████████| 3/3 [00:00<00:00, 41.12 url/s]\n",
      "Dl Completed...: 100%|██████████| 3/3 [00:00<00:00, 38.03 url/s]\n",
      "Dl Completed...:  75%|███████▌  | 3/4 [00:00<00:00, 33.17 url/s]\n",
      "Dl Completed...: 100%|██████████| 4/4 [00:00<00:00, 39.88 url/s]\n",
      "Dl Completed...: 100%|██████████| 4/4 [00:00<00:00, 39.88 url/s]\n",
      "Dl Completed...: 100%|██████████| 4/4 [00:00<00:00, 39.88 url/s]\n",
      "Dl Completed...:  80%|████████  | 4/5 [00:00<00:00, 39.88 url/s]\n",
      "Dl Completed...: 100%|██████████| 5/5 [00:00<00:00, 39.88 url/s]\n",
      "Dl Completed...: 100%|██████████| 5/5 [00:00<00:00, 39.88 url/s]\n",
      "Dl Completed...: 100%|██████████| 5/5 [00:00<00:00, 39.88 url/s]\n",
      "Dl Completed...:  83%|████████▎ | 5/6 [00:00<00:00, 39.88 url/s]\n",
      "Dl Completed...: 100%|██████████| 6/6 [00:00<00:00, 39.88 url/s]\n",
      "Dl Completed...: 100%|██████████| 6/6 [00:00<00:00, 39.88 url/s]\n",
      "Dl Completed...: 100%|██████████| 6/6 [00:00<00:00, 39.88 url/s]\n",
      "Dl Completed...: 100%|██████████| 6/6 [00:19<00:00, 39.88 url/s]"
     ]
    },
    {
     "ename": "",
     "evalue": "",
     "output_type": "error",
     "traceback": [
      "\u001b[1;31mThe Kernel crashed while executing code in the the current cell or a previous cell. Please review the code in the cell(s) to identify a possible cause of the failure. Click <a href='https://aka.ms/vscodeJupyterKernelCrash'>here</a> for more info. View Jupyter <a href='command:jupyter.viewOutput'>log</a> for further details."
     ]
    }
   ],
   "source": [
    "#Importing the necessary libraries\n",
    "\n",
    "from tensorflow import keras\n",
    "import tensorflow as tf\n",
    "import os,datetime\n",
    "import tensorflow_datasets as tfds\n",
    "\n",
    "#Loading the data from tensorflow_datasets\n",
    "df, info = tfds.load('patch_camelyon',\n",
    "                     with_info = True,\n",
    "                     as_supervised = True)"
   ]
  },
  {
   "cell_type": "code",
   "execution_count": null,
   "metadata": {},
   "outputs": [],
   "source": [
    "#Getting the train, validation and test data\n",
    "train_data = df['train']\n",
    "valid_data = df['validation']\n",
    "test_data = df['test']"
   ]
  },
  {
   "cell_type": "code",
   "execution_count": null,
   "metadata": {},
   "outputs": [],
   "source": [
    "#A function to help scale the images\n",
    "def preprocess(image, labels):\n",
    "  image = tf.cast(image, tf.float32)\n",
    "  image /= 255.\n",
    "  return image, labels\n",
    "\n",
    "#Applying the preprocess function we the use of map() method\n",
    "train_data = train_data.map(preprocess)\n",
    "valid_data = valid_data.map(preprocess)\n",
    "test_data = test_data.map(preprocess)\n",
    "\n",
    "#Shuffling the train_data\n",
    "buffer_size = 1000\n",
    "train_data = train_data.shuffle(buffer_size)\n",
    "\n",
    "#Batching and prefetching\n",
    "batch_size = 128\n",
    "train_data = train_data.batch(batch_size).prefetch(1)\n",
    "valid_data = valid_data.batch(batch_size).prefetch(1)\n",
    "test_data = test_data.batch(batch_size).prefetch(1)"
   ]
  }
 ],
 "metadata": {
  "kernelspec": {
   "display_name": ".venv",
   "language": "python",
   "name": "python3"
  },
  "language_info": {
   "codemirror_mode": {
    "name": "ipython",
    "version": 3
   },
   "file_extension": ".py",
   "mimetype": "text/x-python",
   "name": "python",
   "nbconvert_exporter": "python",
   "pygments_lexer": "ipython3",
   "version": "3.8.18"
  }
 },
 "nbformat": 4,
 "nbformat_minor": 2
}
