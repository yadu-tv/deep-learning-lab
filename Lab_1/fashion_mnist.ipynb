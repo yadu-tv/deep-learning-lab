{
 "cells": [
  {
   "cell_type": "code",
   "execution_count": 1,
   "metadata": {},
   "outputs": [
    {
     "name": "stderr",
     "output_type": "stream",
     "text": [
      "2024-01-18 07:17:40.715111: I tensorflow/core/util/port.cc:110] oneDNN custom operations are on. You may see slightly different numerical results due to floating-point round-off errors from different computation orders. To turn them off, set the environment variable `TF_ENABLE_ONEDNN_OPTS=0`.\n",
      "2024-01-18 07:17:40.721638: I tensorflow/tsl/cuda/cudart_stub.cc:28] Could not find cuda drivers on your machine, GPU will not be used.\n",
      "2024-01-18 07:17:40.773174: I tensorflow/tsl/cuda/cudart_stub.cc:28] Could not find cuda drivers on your machine, GPU will not be used.\n",
      "2024-01-18 07:17:40.778561: I tensorflow/core/platform/cpu_feature_guard.cc:182] This TensorFlow binary is optimized to use available CPU instructions in performance-critical operations.\n",
      "To enable the following instructions: AVX2 AVX512F AVX512_VNNI AVX512_BF16 FMA, in other operations, rebuild TensorFlow with the appropriate compiler flags.\n",
      "2024-01-18 07:17:42.663231: W tensorflow/compiler/tf2tensorrt/utils/py_utils.cc:38] TF-TRT Warning: Could not find TensorRT\n"
     ]
    }
   ],
   "source": [
    "from keras.datasets import fashion_mnist\n",
    "(train_images, train_labels), (test_images, test_labels) = fashion_mnist.load_data()\n",
    "train_images.shape\n",
    "len(train_labels)\n",
    "train_labels\n",
    "test_images.shape\n",
    "len(test_labels)\n",
    "test_labels\n",
    "\n",
    "train_images = train_images[train_labels < 6]\n",
    "train_labels = train_labels[train_labels < 6]\n",
    "test_images = test_images[test_labels < 6]\n",
    "test_labels = test_labels[test_labels < 6]"
   ]
  },
  {
   "cell_type": "code",
   "execution_count": 2,
   "metadata": {},
   "outputs": [
    {
     "name": "stderr",
     "output_type": "stream",
     "text": [
      "2024-01-18 07:17:45.482570: I tensorflow/compiler/xla/stream_executor/cuda/cuda_gpu_executor.cc:981] could not open file to read NUMA node: /sys/bus/pci/devices/0000:01:00.0/numa_node\n",
      "Your kernel may have been built without NUMA support.\n",
      "2024-01-18 07:17:45.483501: W tensorflow/core/common_runtime/gpu/gpu_device.cc:1960] Cannot dlopen some GPU libraries. Please make sure the missing libraries mentioned above are installed properly if you would like to use GPU. Follow the guide at https://www.tensorflow.org/install/gpu for how to download and setup the required libraries for your platform.\n",
      "Skipping registering GPU devices...\n"
     ]
    }
   ],
   "source": [
    "from keras import models\n",
    "from keras import layers\n",
    "network = models.Sequential()\n",
    "network.add(layers.Dense(512, activation='relu', input_shape=(28*28,)))\n",
    "network.add(layers.Dense(6, activation='softmax'))\n",
    "network.compile(optimizer='rmsprop',\n",
    "                loss='categorical_crossentropy',\n",
    "                metrics=['accuracy'])\n",
    "\n",
    "train_images = train_images.reshape((train_images.shape[0], 28 * 28))\n",
    "test_images = test_images.reshape((test_images.shape[0], 28 * 28))"
   ]
  },
  {
   "cell_type": "code",
   "execution_count": 3,
   "metadata": {},
   "outputs": [
    {
     "name": "stdout",
     "output_type": "stream",
     "text": [
      "Epoch 1/20\n",
      "282/282 [==============================] - 3s 8ms/step - loss: 24.2152 - accuracy: 0.7926\n",
      "Epoch 2/20\n",
      "282/282 [==============================] - 2s 9ms/step - loss: 1.4343 - accuracy: 0.8478\n",
      "Epoch 3/20\n",
      "282/282 [==============================] - 2s 8ms/step - loss: 0.5222 - accuracy: 0.8736\n",
      "Epoch 4/20\n",
      "282/282 [==============================] - 2s 8ms/step - loss: 0.4794 - accuracy: 0.8836\n",
      "Epoch 5/20\n",
      "282/282 [==============================] - 3s 10ms/step - loss: 0.4203 - accuracy: 0.8915\n",
      "Epoch 6/20\n",
      "282/282 [==============================] - 2s 8ms/step - loss: 0.3545 - accuracy: 0.8984\n",
      "Epoch 7/20\n",
      "282/282 [==============================] - 2s 7ms/step - loss: 0.3312 - accuracy: 0.9035\n",
      "Epoch 8/20\n",
      "282/282 [==============================] - 2s 8ms/step - loss: 0.3456 - accuracy: 0.9045\n",
      "Epoch 9/20\n",
      "282/282 [==============================] - 2s 8ms/step - loss: 0.3323 - accuracy: 0.9069\n",
      "Epoch 10/20\n",
      "282/282 [==============================] - 2s 8ms/step - loss: 0.3219 - accuracy: 0.9098\n",
      "Epoch 11/20\n",
      "282/282 [==============================] - 2s 8ms/step - loss: 0.3135 - accuracy: 0.9118\n",
      "Epoch 12/20\n",
      "282/282 [==============================] - 2s 8ms/step - loss: 0.3108 - accuracy: 0.9139\n",
      "Epoch 13/20\n",
      "282/282 [==============================] - 2s 8ms/step - loss: 0.2926 - accuracy: 0.9146\n",
      "Epoch 14/20\n",
      "282/282 [==============================] - 2s 8ms/step - loss: 0.3206 - accuracy: 0.9149\n",
      "Epoch 15/20\n",
      "282/282 [==============================] - 2s 8ms/step - loss: 0.2912 - accuracy: 0.9172\n",
      "Epoch 16/20\n",
      "282/282 [==============================] - 2s 8ms/step - loss: 0.2864 - accuracy: 0.9184\n",
      "Epoch 17/20\n",
      "282/282 [==============================] - 2s 7ms/step - loss: 0.3087 - accuracy: 0.9181\n",
      "Epoch 18/20\n",
      "282/282 [==============================] - 2s 7ms/step - loss: 0.2902 - accuracy: 0.9221\n",
      "Epoch 19/20\n",
      "282/282 [==============================] - 2s 8ms/step - loss: 0.2913 - accuracy: 0.9210\n",
      "Epoch 20/20\n",
      "282/282 [==============================] - 2s 7ms/step - loss: 0.2796 - accuracy: 0.9229\n",
      "188/188 [==============================] - 1s 5ms/step - loss: 0.5313 - accuracy: 0.9000\n",
      "test_acc: 0.8999999761581421\n"
     ]
    }
   ],
   "source": [
    "from keras.utils import to_categorical\n",
    "train_labels = to_categorical(train_labels,6)\n",
    "test_labels = to_categorical(test_labels,6)\n",
    "\n",
    "network.fit(train_images, train_labels, epochs=20, batch_size=128)\n",
    "test_loss, test_acc = network.evaluate(test_images, test_labels)\n",
    "print('test_acc:', test_acc) #21BAI1210"
   ]
  }
 ],
 "metadata": {
  "kernelspec": {
   "display_name": "Python 3",
   "language": "python",
   "name": "python3"
  },
  "language_info": {
   "codemirror_mode": {
    "name": "ipython",
    "version": 3
   },
   "file_extension": ".py",
   "mimetype": "text/x-python",
   "name": "python",
   "nbconvert_exporter": "python",
   "pygments_lexer": "ipython3",
   "version": "3.8.18"
  }
 },
 "nbformat": 4,
 "nbformat_minor": 2
}
