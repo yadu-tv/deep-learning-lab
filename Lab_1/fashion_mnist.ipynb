{
 "cells": [
  {
   "cell_type": "code",
   "execution_count": 58,
   "metadata": {},
   "outputs": [],
   "source": [
    "from keras.datasets import fashion_mnist\n",
    "(train_images, train_labels), (test_images, test_labels) = fashion_mnist.load_data()\n",
    "train_images.shape\n",
    "len(train_labels)\n",
    "train_labels\n",
    "test_images.shape\n",
    "len(test_labels)\n",
    "test_labels\n",
    "\n",
    "train_images = train_images[train_labels < 6]\n",
    "train_labels = train_labels[train_labels < 6]\n",
    "test_images = test_images[test_labels < 6]\n",
    "test_labels = test_labels[test_labels < 6]"
   ]
  },
  {
   "cell_type": "code",
   "execution_count": 59,
   "metadata": {},
   "outputs": [],
   "source": [
    "from keras import models\n",
    "from keras import layers\n",
    "network = models.Sequential()\n",
    "network.add(layers.Dense(512, activation='relu', input_shape=(28*28,)))\n",
    "network.add(layers.Dense(6, activation='softmax'))\n",
    "network.compile(optimizer='rmsprop',\n",
    "                loss='categorical_crossentropy',\n",
    "                metrics=['accuracy'])\n",
    "\n",
    "train_images = train_images.reshape((train_images.shape[0], 28 * 28))\n",
    "test_images = test_images.reshape((test_images.shape[0], 28 * 28))"
   ]
  },
  {
   "cell_type": "code",
   "execution_count": 60,
   "metadata": {},
   "outputs": [
    {
     "name": "stdout",
     "output_type": "stream",
     "text": [
      "Epoch 1/20\n",
      "282/282 [==============================] - 2s 5ms/step - loss: 33.5195 - accuracy: 0.7897\n",
      "Epoch 2/20\n",
      "282/282 [==============================] - 1s 5ms/step - loss: 1.4566 - accuracy: 0.8447\n",
      "Epoch 3/20\n",
      "282/282 [==============================] - 1s 5ms/step - loss: 0.4753 - accuracy: 0.8762\n",
      "Epoch 4/20\n",
      "282/282 [==============================] - 2s 6ms/step - loss: 0.4430 - accuracy: 0.8873\n",
      "Epoch 5/20\n",
      "282/282 [==============================] - 1s 5ms/step - loss: 0.3998 - accuracy: 0.8953\n",
      "Epoch 6/20\n",
      "282/282 [==============================] - 1s 5ms/step - loss: 0.3458 - accuracy: 0.9007\n",
      "Epoch 7/20\n",
      "282/282 [==============================] - 1s 5ms/step - loss: 0.3366 - accuracy: 0.9034\n",
      "Epoch 8/20\n",
      "282/282 [==============================] - 1s 5ms/step - loss: 0.3275 - accuracy: 0.9069\n",
      "Epoch 9/20\n",
      "282/282 [==============================] - 1s 4ms/step - loss: 0.3555 - accuracy: 0.9062\n",
      "Epoch 10/20\n",
      "282/282 [==============================] - 1s 5ms/step - loss: 0.3103 - accuracy: 0.9109\n",
      "Epoch 11/20\n",
      "282/282 [==============================] - 1s 5ms/step - loss: 0.3081 - accuracy: 0.9118\n",
      "Epoch 12/20\n",
      "282/282 [==============================] - 1s 4ms/step - loss: 0.2885 - accuracy: 0.9142\n",
      "Epoch 13/20\n",
      "282/282 [==============================] - 1s 4ms/step - loss: 0.2782 - accuracy: 0.9170\n",
      "Epoch 14/20\n",
      "282/282 [==============================] - 1s 4ms/step - loss: 0.2995 - accuracy: 0.9166\n",
      "Epoch 15/20\n",
      "282/282 [==============================] - 1s 5ms/step - loss: 0.2974 - accuracy: 0.9170\n",
      "Epoch 16/20\n",
      "282/282 [==============================] - 1s 5ms/step - loss: 0.2766 - accuracy: 0.9191\n",
      "Epoch 17/20\n",
      "282/282 [==============================] - 1s 4ms/step - loss: 0.2760 - accuracy: 0.9197\n",
      "Epoch 18/20\n",
      "282/282 [==============================] - 1s 5ms/step - loss: 0.2721 - accuracy: 0.9195\n",
      "Epoch 19/20\n",
      "282/282 [==============================] - 1s 5ms/step - loss: 0.2722 - accuracy: 0.9221\n",
      "Epoch 20/20\n",
      "282/282 [==============================] - 1s 5ms/step - loss: 0.2604 - accuracy: 0.9247\n",
      "188/188 [==============================] - 1s 2ms/step - loss: 0.4260 - accuracy: 0.9078\n",
      "test_acc: 0.9078333377838135\n"
     ]
    }
   ],
   "source": [
    "from keras.utils import to_categorical\n",
    "train_labels = to_categorical(train_labels,6)\n",
    "test_labels = to_categorical(test_labels,6)\n",
    "\n",
    "network.fit(train_images, train_labels, epochs=20, batch_size=128)\n",
    "test_loss, test_acc = network.evaluate(test_images, test_labels)\n",
    "print('test_acc:', test_acc) #21BAI1210"
   ]
  }
 ],
 "metadata": {
  "kernelspec": {
   "display_name": "Python 3",
   "language": "python",
   "name": "python3"
  },
  "language_info": {
   "codemirror_mode": {
    "name": "ipython",
    "version": 3
   },
   "file_extension": ".py",
   "mimetype": "text/x-python",
   "name": "python",
   "nbconvert_exporter": "python",
   "pygments_lexer": "ipython3",
   "version": "3.8.18"
  }
 },
 "nbformat": 4,
 "nbformat_minor": 2
}
