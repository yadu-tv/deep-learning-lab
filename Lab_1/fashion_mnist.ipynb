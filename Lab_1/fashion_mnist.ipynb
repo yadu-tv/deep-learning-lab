{
 "cells": [
  {
   "cell_type": "code",
   "execution_count": 1,
   "metadata": {},
   "outputs": [
    {
     "name": "stderr",
     "output_type": "stream",
     "text": [
      "2024-01-18 06:40:32.821247: I tensorflow/core/util/port.cc:110] oneDNN custom operations are on. You may see slightly different numerical results due to floating-point round-off errors from different computation orders. To turn them off, set the environment variable `TF_ENABLE_ONEDNN_OPTS=0`.\n",
      "2024-01-18 06:40:32.830036: I tensorflow/tsl/cuda/cudart_stub.cc:28] Could not find cuda drivers on your machine, GPU will not be used.\n",
      "2024-01-18 06:40:32.942701: I tensorflow/tsl/cuda/cudart_stub.cc:28] Could not find cuda drivers on your machine, GPU will not be used.\n",
      "2024-01-18 06:40:32.943925: I tensorflow/core/platform/cpu_feature_guard.cc:182] This TensorFlow binary is optimized to use available CPU instructions in performance-critical operations.\n",
      "To enable the following instructions: AVX2 AVX512F AVX512_VNNI AVX512_BF16 FMA, in other operations, rebuild TensorFlow with the appropriate compiler flags.\n",
      "2024-01-18 06:40:35.107262: W tensorflow/compiler/tf2tensorrt/utils/py_utils.cc:38] TF-TRT Warning: Could not find TensorRT\n"
     ]
    }
   ],
   "source": [
    "from keras.datasets import fashion_mnist\n",
    "(train_images, train_labels), (test_images, test_labels) = fashion_mnist.load_data()\n",
    "train_images.shape\n",
    "len(train_labels)\n",
    "train_labels\n",
    "test_images.shape\n",
    "len(test_labels)\n",
    "test_labels\n",
    "\n",
    "train_images = train_images[train_labels < 6]\n",
    "train_labels = train_labels[train_labels < 6]\n",
    "test_images = test_images[test_labels < 6]\n",
    "test_labels = test_labels[test_labels < 6]"
   ]
  },
  {
   "cell_type": "code",
   "execution_count": 2,
   "metadata": {},
   "outputs": [
    {
     "name": "stderr",
     "output_type": "stream",
     "text": [
      "2024-01-18 06:40:38.920940: I tensorflow/compiler/xla/stream_executor/cuda/cuda_gpu_executor.cc:981] could not open file to read NUMA node: /sys/bus/pci/devices/0000:01:00.0/numa_node\n",
      "Your kernel may have been built without NUMA support.\n",
      "2024-01-18 06:40:38.922262: W tensorflow/core/common_runtime/gpu/gpu_device.cc:1960] Cannot dlopen some GPU libraries. Please make sure the missing libraries mentioned above are installed properly if you would like to use GPU. Follow the guide at https://www.tensorflow.org/install/gpu for how to download and setup the required libraries for your platform.\n",
      "Skipping registering GPU devices...\n"
     ]
    }
   ],
   "source": [
    "from keras import models\n",
    "from keras import layers\n",
    "network = models.Sequential()\n",
    "network.add(layers.Dense(512, activation='relu', input_shape=(28*28,)))\n",
    "network.add(layers.Dense(6, activation='softmax'))\n",
    "network.compile(optimizer='rmsprop',\n",
    "                loss='categorical_crossentropy',\n",
    "                metrics=['accuracy'])\n",
    "\n",
    "train_images = train_images.reshape((train_images.shape[0], 28 * 28))\n",
    "test_images = test_images.reshape((test_images.shape[0], 28 * 28))"
   ]
  },
  {
   "cell_type": "code",
   "execution_count": 3,
   "metadata": {},
   "outputs": [
    {
     "name": "stdout",
     "output_type": "stream",
     "text": [
      "Epoch 1/20\n",
      "282/282 [==============================] - 4s 10ms/step - loss: 23.2248 - accuracy: 0.7925\n",
      "Epoch 2/20\n",
      "282/282 [==============================] - 3s 10ms/step - loss: 0.8496 - accuracy: 0.8487\n",
      "Epoch 3/20\n",
      "282/282 [==============================] - 3s 10ms/step - loss: 0.4898 - accuracy: 0.8731\n",
      "Epoch 4/20\n",
      "282/282 [==============================] - 3s 11ms/step - loss: 0.3687 - accuracy: 0.8924\n",
      "Epoch 5/20\n",
      "282/282 [==============================] - 3s 10ms/step - loss: 0.3794 - accuracy: 0.8969\n",
      "Epoch 6/20\n",
      "282/282 [==============================] - 3s 10ms/step - loss: 0.3286 - accuracy: 0.9010\n",
      "Epoch 7/20\n",
      "282/282 [==============================] - 3s 10ms/step - loss: 0.3108 - accuracy: 0.9050\n",
      "Epoch 8/20\n",
      "282/282 [==============================] - 3s 9ms/step - loss: 0.3480 - accuracy: 0.9047\n",
      "Epoch 9/20\n",
      "282/282 [==============================] - 3s 10ms/step - loss: 0.3138 - accuracy: 0.9088\n",
      "Epoch 10/20\n",
      "282/282 [==============================] - 3s 9ms/step - loss: 0.3008 - accuracy: 0.9105\n",
      "Epoch 11/20\n",
      "282/282 [==============================] - 3s 9ms/step - loss: 0.2963 - accuracy: 0.9143\n",
      "Epoch 12/20\n",
      "282/282 [==============================] - 2s 8ms/step - loss: 0.2971 - accuracy: 0.9138\n",
      "Epoch 13/20\n",
      "282/282 [==============================] - 2s 8ms/step - loss: 0.2990 - accuracy: 0.9151\n",
      "Epoch 14/20\n",
      "282/282 [==============================] - 2s 8ms/step - loss: 0.2840 - accuracy: 0.9162\n",
      "Epoch 15/20\n",
      "282/282 [==============================] - 2s 8ms/step - loss: 0.2896 - accuracy: 0.9171\n",
      "Epoch 16/20\n",
      "282/282 [==============================] - 2s 8ms/step - loss: 0.2881 - accuracy: 0.9176\n",
      "Epoch 17/20\n",
      "282/282 [==============================] - 2s 8ms/step - loss: 0.2788 - accuracy: 0.9195\n",
      "Epoch 18/20\n",
      "282/282 [==============================] - 2s 8ms/step - loss: 0.3035 - accuracy: 0.9191\n",
      "Epoch 19/20\n",
      "282/282 [==============================] - 2s 8ms/step - loss: 0.2879 - accuracy: 0.9207\n",
      "Epoch 20/20\n",
      "282/282 [==============================] - 2s 9ms/step - loss: 0.2811 - accuracy: 0.9207\n",
      "188/188 [==============================] - 1s 5ms/step - loss: 0.4737 - accuracy: 0.8875\n",
      "test_acc: 0.887499988079071\n"
     ]
    }
   ],
   "source": [
    "from keras.utils import to_categorical\n",
    "train_labels = to_categorical(train_labels,6)\n",
    "test_labels = to_categorical(test_labels,6)\n",
    "\n",
    "network.fit(train_images, train_labels, epochs=20, batch_size=128)\n",
    "test_loss, test_acc = network.evaluate(test_images, test_labels)\n",
    "print('test_acc:', test_acc) #21BAI1210"
   ]
  }
 ],
 "metadata": {
  "kernelspec": {
   "display_name": "Python 3",
   "language": "python",
   "name": "python3"
  },
  "language_info": {
   "codemirror_mode": {
    "name": "ipython",
    "version": 3
   },
   "file_extension": ".py",
   "mimetype": "text/x-python",
   "name": "python",
   "nbconvert_exporter": "python",
   "pygments_lexer": "ipython3",
   "version": "3.8.18"
  }
 },
 "nbformat": 4,
 "nbformat_minor": 2
}
