{
 "cells": [
  {
   "cell_type": "code",
   "execution_count": 1,
   "metadata": {},
   "outputs": [],
   "source": [
    "#Ignoring TF warning messages\n",
    "import logging, os\n",
    "logging.disable(logging.WARNING)\n",
    "os.environ[\"TF_CPP_MIN_LOG_LEVEL\"] = \"3\""
   ]
  },
  {
   "cell_type": "code",
   "execution_count": 3,
   "metadata": {},
   "outputs": [],
   "source": [
    "import torch\n",
    "from torch import nn\n",
    "import torchvision\n",
    "import os\n",
    "from typing import List, Any, Tuple\n",
    "from torchinfo import summary\n",
    "from torchvision.datasets import VisionDataset"
   ]
  },
  {
   "cell_type": "code",
   "execution_count": 4,
   "metadata": {},
   "outputs": [
    {
     "name": "stdout",
     "output_type": "stream",
     "text": [
      "80 classification models: ['alexnet', 'convnext_base', 'convnext_large', 'convnext_small', 'convnext_tiny', 'densenet121', 'densenet161', 'densenet169', 'densenet201', 'efficientnet_b0', 'efficientnet_b1', 'efficientnet_b2', 'efficientnet_b3', 'efficientnet_b4', 'efficientnet_b5', 'efficientnet_b6', 'efficientnet_b7', 'efficientnet_v2_l', 'efficientnet_v2_m', 'efficientnet_v2_s', 'googlenet', 'inception_v3', 'maxvit_t', 'mnasnet0_5', 'mnasnet0_75', 'mnasnet1_0', 'mnasnet1_3', 'mobilenet_v2', 'mobilenet_v3_large', 'mobilenet_v3_small', 'regnet_x_16gf', 'regnet_x_1_6gf', 'regnet_x_32gf', 'regnet_x_3_2gf', 'regnet_x_400mf', 'regnet_x_800mf', 'regnet_x_8gf', 'regnet_y_128gf', 'regnet_y_16gf', 'regnet_y_1_6gf', 'regnet_y_32gf', 'regnet_y_3_2gf', 'regnet_y_400mf', 'regnet_y_800mf', 'regnet_y_8gf', 'resnet101', 'resnet152', 'resnet18', 'resnet34', 'resnet50', 'resnext101_32x8d', 'resnext101_64x4d', 'resnext50_32x4d', 'shufflenet_v2_x0_5', 'shufflenet_v2_x1_0', 'shufflenet_v2_x1_5', 'shufflenet_v2_x2_0', 'squeezenet1_0', 'squeezenet1_1', 'swin_b', 'swin_s', 'swin_t', 'swin_v2_b', 'swin_v2_s', 'swin_v2_t', 'vgg11', 'vgg11_bn', 'vgg13', 'vgg13_bn', 'vgg16', 'vgg16_bn', 'vgg19', 'vgg19_bn', 'vit_b_16', 'vit_b_32', 'vit_h_14', 'vit_l_16', 'vit_l_32', 'wide_resnet101_2', 'wide_resnet50_2']\n"
     ]
    }
   ],
   "source": [
    "classification_models = torchvision.models.list_models(module=torchvision.models)\n",
    "print(len(classification_models), \"classification models:\", classification_models)"
   ]
  },
  {
   "cell_type": "code",
   "execution_count": 6,
   "metadata": {},
   "outputs": [],
   "source": [
    "alexnet = torchvision.models.alexnet(weights=None)"
   ]
  },
  {
   "cell_type": "code",
   "execution_count": 7,
   "metadata": {},
   "outputs": [],
   "source": [
    "convnext_base = torchvision.models.convnext_base(weights=None)"
   ]
  },
  {
   "cell_type": "code",
   "execution_count": 8,
   "metadata": {},
   "outputs": [
    {
     "data": {
      "text/plain": [
       "dict_keys(['features', 'avgpool', 'classifier'])"
      ]
     },
     "execution_count": 8,
     "metadata": {},
     "output_type": "execute_result"
    }
   ],
   "source": [
    "dict(alexnet.named_children()).keys()"
   ]
  },
  {
   "cell_type": "code",
   "execution_count": 9,
   "metadata": {},
   "outputs": [
    {
     "name": "stderr",
     "output_type": "stream",
     "text": [
      "/home/yaduk/anaconda3/envs/deepl/lib/python3.11/site-packages/torchvision/models/googlenet.py:47: FutureWarning: The default weight initialization of GoogleNet will be changed in future releases of torchvision. If you wish to keep the old behavior (which leads to long initialization times due to scipy/scipy#11299), please set init_weights=True.\n",
      "  warnings.warn(\n",
      "/home/yaduk/anaconda3/envs/deepl/lib/python3.11/site-packages/torchvision/models/inception.py:43: FutureWarning: The default weight initialization of inception_v3 will be changed in future releases of torchvision. If you wish to keep the old behavior (which leads to long initialization times due to scipy/scipy#11299), please set init_weights=True.\n",
      "  warnings.warn(\n",
      "/home/yaduk/anaconda3/envs/deepl/lib/python3.11/site-packages/torch/functional.py:507: UserWarning: torch.meshgrid: in an upcoming release, it will be required to pass the indexing argument. (Triggered internally at ../aten/src/ATen/native/TensorShape.cpp:3549.)\n",
      "  return _VF.meshgrid(tensors, **kwargs)  # type: ignore[attr-defined]\n"
     ]
    },
    {
     "name": "stdout",
     "output_type": "stream",
     "text": [
      "{'features': 39, 'avgpool': 59, 'classifier': 38, 'conv1': 15, 'maxpool1': 2, 'conv2': 1, 'conv3': 1, 'maxpool2': 2, 'inception3a': 1, 'inception3b': 1, 'maxpool3': 1, 'inception4a': 1, 'inception4b': 1, 'inception4c': 1, 'inception4d': 1, 'inception4e': 1, 'maxpool4': 1, 'inception5a': 1, 'inception5b': 1, 'aux1': 1, 'aux2': 1, 'dropout': 2, 'fc': 31, 'Conv2d_1a_3x3': 1, 'Conv2d_2a_3x3': 1, 'Conv2d_2b_3x3': 1, 'Conv2d_3b_1x1': 1, 'Conv2d_4a_3x3': 1, 'Mixed_5b': 1, 'Mixed_5c': 1, 'Mixed_5d': 1, 'Mixed_6a': 1, 'Mixed_6b': 1, 'Mixed_6c': 1, 'Mixed_6d': 1, 'Mixed_6e': 1, 'AuxLogits': 1, 'Mixed_7a': 1, 'Mixed_7b': 1, 'Mixed_7c': 1, 'stem': 16, 'blocks': 1, 'layers': 4, 'trunk_output': 15, 'bn1': 10, 'relu': 10, 'maxpool': 14, 'layer1': 10, 'layer2': 10, 'layer3': 10, 'layer4': 10, 'stage2': 4, 'stage3': 4, 'stage4': 4, 'conv5': 4, 'norm': 6, 'permute': 6, 'flatten': 6, 'head': 6, 'conv_proj': 5, 'encoder': 5, 'heads': 5}\n"
     ]
    }
   ],
   "source": [
    "layer_count = dict()\n",
    "\n",
    "for model_name in classification_models:\n",
    "    m = getattr(torchvision.models, model_name)(weights=None)\n",
    "    layer_names = dict(m.named_children()).keys()\n",
    "    for ln in layer_names:\n",
    "        layer_count[ln] = layer_count.get(ln, 0) + 1\n",
    "\n",
    "print(layer_count)"
   ]
  },
  {
   "cell_type": "code",
   "execution_count": 10,
   "metadata": {},
   "outputs": [
    {
     "name": "stdout",
     "output_type": "stream",
     "text": [
      "vgg16\n",
      " Sequential(\n",
      "  (0): Linear(in_features=25088, out_features=4096, bias=True)\n",
      "  (1): ReLU(inplace=True)\n",
      "  (2): Dropout(p=0.5, inplace=False)\n",
      "  (3): Linear(in_features=4096, out_features=4096, bias=True)\n",
      "  (4): ReLU(inplace=True)\n",
      "  (5): Dropout(p=0.5, inplace=False)\n",
      "  (6): Linear(in_features=4096, out_features=1000, bias=True)\n",
      ")\n",
      "resnet50\n",
      " Linear(in_features=2048, out_features=1000, bias=True)\n",
      "resnet152\n",
      " Linear(in_features=2048, out_features=1000, bias=True)\n"
     ]
    }
   ],
   "source": [
    "vgg16 = torchvision.models.vgg16_bn(weights=None)\n",
    "resnet50 = torchvision.models.resnet50(weights=None)\n",
    "resnet152 = torchvision.models.resnet152(weights=None)\n",
    "print(\"vgg16\\n\", vgg16.classifier)\n",
    "print(\"resnet50\\n\", resnet50.fc)\n",
    "print(\"resnet152\\n\", resnet152.fc)"
   ]
  }
 ],
 "metadata": {
  "kernelspec": {
   "display_name": "deepl",
   "language": "python",
   "name": "python3"
  },
  "language_info": {
   "codemirror_mode": {
    "name": "ipython",
    "version": 3
   },
   "file_extension": ".py",
   "mimetype": "text/x-python",
   "name": "python",
   "nbconvert_exporter": "python",
   "pygments_lexer": "ipython3",
   "version": "3.11.7"
  }
 },
 "nbformat": 4,
 "nbformat_minor": 2
}
